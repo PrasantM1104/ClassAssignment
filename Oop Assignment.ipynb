{
 "cells": [
  {
   "cell_type": "raw",
   "id": "803391d9-dfd9-450c-934e-75fe52c570c8",
   "metadata": {},
   "source": [
    "Q1. Explain Class and Object with respect to Object-Oriented Programming. Give a suitable example."
   ]
  },
  {
   "cell_type": "raw",
   "id": "b9eb4b1b-00f1-4192-9f3e-70ac92a0a800",
   "metadata": {},
   "source": [
    "Ans:\n",
    "Class is a user-defined type which gives a prototype, how a variable/object should look like and what its available function are. \n",
    "\n",
    "Object is instance of a class and can be considered as real world entity. It follows the skeleton of class and has actual values. It has identity, attributes and behavior in line with the class.\n",
    "\n",
    "For eg. Dog is Class. It gives general description how it should look like. It should have 4 legs, canine teeth and can smell & bark etc.\n",
    "Labrador, German Shepard, Bull Dog etc are the objects of Class Dog. They follows the skeleton of Class Dog i.e. they has 4 legs, canine teeth and they can smell, bark."
   ]
  },
  {
   "cell_type": "code",
   "execution_count": 2,
   "id": "18ef7c5a-bb02-47e2-bad2-84e6a6929cc1",
   "metadata": {},
   "outputs": [],
   "source": [
    "# Ans 1. Eg:\n",
    "\n",
    "class dog:\n",
    "    def __init__(self, legs, teeth, smell_sensitivity, bark, nature):\n",
    "        self.legs = legs\n",
    "        self.teeth = teeth\n",
    "        self.smell_sensitivity = smell_sensitivity\n",
    "        self.bark = bark\n",
    "        self.nature = nature\n",
    "        \n",
    "    def return_dog_details(self):\n",
    "        return self.legs, self.teeth, self.smell_sensitivity, self.bark, self. nature"
   ]
  },
  {
   "cell_type": "code",
   "execution_count": 3,
   "id": "cb5fb90f-a900-4f49-a70f-2f2d44c2e78b",
   "metadata": {},
   "outputs": [],
   "source": [
    "labrador = dog(4, \"canine\", \"high sensitivity\", \"very aggresive\", \"Friendly and protective\")"
   ]
  },
  {
   "cell_type": "code",
   "execution_count": 4,
   "id": "082529ce-582e-425d-9873-d6b28ffb9926",
   "metadata": {},
   "outputs": [
    {
     "data": {
      "text/plain": [
       "(4, 'canine', 'high sensitivity', 'very aggresive', 'Friendly and protective')"
      ]
     },
     "execution_count": 4,
     "metadata": {},
     "output_type": "execute_result"
    }
   ],
   "source": [
    "labrador.return_dog_details()"
   ]
  },
  {
   "cell_type": "raw",
   "id": "851fc40a-2f14-4749-bc9c-3c888c004a23",
   "metadata": {},
   "source": [
    "Q2. Name the four pillars of OOPs."
   ]
  },
  {
   "cell_type": "raw",
   "id": "4ae076e9-8da9-408a-86a5-308787db2ca3",
   "metadata": {},
   "source": [
    "Ans: The four pillars of Object Oriented Programming are:\n",
    "1) Polymorphism\n",
    "2) Inheritance\n",
    "3) Encapsulation\n",
    "4) Abstraction\n",
    "\n",
    "Polymorhism: It means many forms. In python, a function can used in different ways. For eg: Addition can be performed between two integers or two strings or two complex numbers.\n",
    "\n",
    "Inheritance: It means the methods/attributes of parent class can be used by the child class. For eg. Dog class can inherit from Animal class.\n",
    "\n",
    "Encapsulation: It means to make the data private so that users won't be able to access the data like in a capsule. It is achieved by using private class. In python double underscore before a variable/method denotes private variable/method. For eg. __email_id\n",
    "\n",
    "Abstraction: It means hiding the process that should not be displayed to user and displaying only the basic details. It is achieved by using Base Class and subclass. For eg. string class is the base class and upon which other subclass, user can create."
   ]
  },
  {
   "cell_type": "raw",
   "id": "2b7cb77e-dfd6-4e8b-a8cc-1752d24354b5",
   "metadata": {},
   "source": [
    "Q3. Explain why the __init__() function is used. Give a suitable example.\n",
    "\n",
    "Ans: __init__() function is a constructor that initializes the object's attribute i.e. object specific data in class. It is called everytime, when an object is created. It is used only within the class."
   ]
  },
  {
   "cell_type": "code",
   "execution_count": 1,
   "id": "16db237f-4afa-4652-8f65-bc1cd2444943",
   "metadata": {},
   "outputs": [],
   "source": [
    "# Ans 3:\n",
    "\n",
    "class Test:\n",
    "    def __init__(self, var1):\n",
    "        self.var1 = var1\n",
    "        \n",
    "    def value(self):\n",
    "        return f\"The value is {self.var1} and its type is {type(self.var1)}\""
   ]
  },
  {
   "cell_type": "code",
   "execution_count": 3,
   "id": "83b94655-dade-4234-9606-659136f581ab",
   "metadata": {},
   "outputs": [],
   "source": [
    "obj = Test(5)"
   ]
  },
  {
   "cell_type": "code",
   "execution_count": 4,
   "id": "cdedbf5f-86ae-4780-9909-c079c3af8808",
   "metadata": {},
   "outputs": [
    {
     "data": {
      "text/plain": [
       "\"The value is 5 and its type is <class 'int'>\""
      ]
     },
     "execution_count": 4,
     "metadata": {},
     "output_type": "execute_result"
    }
   ],
   "source": [
    "obj.value()"
   ]
  },
  {
   "cell_type": "raw",
   "id": "0c356cd6-e550-4d76-bd02-feb36f33dc9a",
   "metadata": {},
   "source": [
    "Q4. Why self is used in OOPs?"
   ]
  },
  {
   "cell_type": "raw",
   "id": "3f2f3304-36b1-4d53-9382-1e5520fb8b80",
   "metadata": {},
   "source": [
    "Ans: 'self' is a keyword that binds the methods and attributes/variables with the class. It represents the instance/object of the class.\n",
    "It should be noted that self is not a reserve keyword and any keyword can be used instead of self."
   ]
  },
  {
   "cell_type": "raw",
   "id": "d3e94657-011f-4146-b87c-330e76f847ce",
   "metadata": {},
   "source": [
    "Q5. What is inheritance? Give an example for each type of inheritance."
   ]
  },
  {
   "cell_type": "raw",
   "id": "80a15b93-d633-4dfa-8010-fca0b6bf5452",
   "metadata": {},
   "source": [
    "Ans: Inheritance is a property of Object Oriented Programming (OOP) that allows the child class to use the attributes and methods of the parent class.\n",
    "Types:\n",
    "1) Simple Inheritance: A child class inherits from single parent class.\n",
    "2) Multiple Inheritance: A child class inherits from multiple parent class.\n",
    "3) Hierarchial Inheritance: If more than one child class inherit from single parent class\n",
    "4) Multi Level Inheritance: A child class inherit from a parent class and the parent class itself inherit from grandparent class.\n",
    "5) Hybrid Inheritance: Inheritance that consist of multiple types of inheritance."
   ]
  },
  {
   "cell_type": "code",
   "execution_count": 11,
   "id": "c77c2777-bb7d-476a-9406-47554bf7ef6d",
   "metadata": {},
   "outputs": [],
   "source": [
    "# Simple Inheritance:\n",
    "\n",
    "class school:\n",
    "    \n",
    "    def __init__(self, name, roll):\n",
    "        self.name = name\n",
    "        self.roll = roll\n",
    "        \n",
    "    def student(self):\n",
    "        return self.name, self.roll\n",
    "    \n",
    "    \n",
    "class enroll(school):\n",
    "    pass"
   ]
  },
  {
   "cell_type": "code",
   "execution_count": 12,
   "id": "7afa5a7b-9528-47ba-8284-dd8a1db50f18",
   "metadata": {},
   "outputs": [],
   "source": [
    "Ravi = enroll(\"Ravi Kumar\", 1)"
   ]
  },
  {
   "cell_type": "code",
   "execution_count": 13,
   "id": "13d687fe-b81d-4e9c-a4f6-9637f3302cb1",
   "metadata": {},
   "outputs": [
    {
     "data": {
      "text/plain": [
       "('Ravi Kumar', 1)"
      ]
     },
     "execution_count": 13,
     "metadata": {},
     "output_type": "execute_result"
    }
   ],
   "source": [
    "Ravi.student()"
   ]
  },
  {
   "cell_type": "code",
   "execution_count": 25,
   "id": "26e88bc5-541a-4c10-98b6-9967073e87ae",
   "metadata": {},
   "outputs": [],
   "source": [
    "# Multiple Inheritance\n",
    "\n",
    "\n",
    "class school:\n",
    "        \n",
    "    def student(self, name, roll):\n",
    "        return name, roll\n",
    "    \n",
    "class personal:\n",
    "    \n",
    "    def personal_info(self, age, sex, location):\n",
    "        return age, sex, location\n",
    "        \n",
    "    \n",
    "    \n",
    "class enroll(school, personal):\n",
    "    pass"
   ]
  },
  {
   "cell_type": "code",
   "execution_count": 26,
   "id": "be45c4bd-50c8-44de-b6eb-0b5150ece015",
   "metadata": {},
   "outputs": [],
   "source": [
    "Arun = enroll()"
   ]
  },
  {
   "cell_type": "code",
   "execution_count": 27,
   "id": "dae3866c-38d0-4904-99ac-faa523d56800",
   "metadata": {},
   "outputs": [
    {
     "data": {
      "text/plain": [
       "('Arun Kumar', 2)"
      ]
     },
     "execution_count": 27,
     "metadata": {},
     "output_type": "execute_result"
    }
   ],
   "source": [
    "Arun.student(\"Arun Kumar\", 2)"
   ]
  },
  {
   "cell_type": "code",
   "execution_count": 28,
   "id": "5611be62-7c35-44c0-a69f-ffc33dd0f4d1",
   "metadata": {},
   "outputs": [
    {
     "data": {
      "text/plain": [
       "(15, 'Male', 'Whitefield')"
      ]
     },
     "execution_count": 28,
     "metadata": {},
     "output_type": "execute_result"
    }
   ],
   "source": [
    "Arun.personal_info(15, \"Male\", \"Whitefield\")"
   ]
  },
  {
   "cell_type": "code",
   "execution_count": 48,
   "id": "eca27875-612d-4733-93cb-afb1e3272c25",
   "metadata": {},
   "outputs": [],
   "source": [
    "# Hierarchial Inheritance\n",
    "\n",
    "class school:\n",
    "    \n",
    "    def __init__(self, name, age):\n",
    "        self.name = name\n",
    "        self.age = age\n",
    "    \n",
    "    def student(self):\n",
    "        return self.name, self.age\n",
    "    \n",
    "    \n",
    "class class_detail(school):\n",
    "    \n",
    "    def class_info(self, classroom, section):\n",
    "        print(self.student())\n",
    "        return classroom, section\n",
    "\n",
    "    \n",
    "class hobbies(school):\n",
    "    \n",
    "    def hobby(self, hobby):\n",
    "        print(self.student())\n",
    "        return hobby\n",
    "\n",
    "    \n",
    "class sports(school):\n",
    "    \n",
    "    def sport(self, sport):\n",
    "        print(self.student())\n",
    "        return sport"
   ]
  },
  {
   "cell_type": "code",
   "execution_count": 49,
   "id": "3f68a77a-6111-412c-9684-c5fcb549943f",
   "metadata": {},
   "outputs": [],
   "source": [
    "pranay = class_detail(\"Pranay\", 14)"
   ]
  },
  {
   "cell_type": "code",
   "execution_count": 50,
   "id": "680fd948-9f5f-4f98-b628-37831818b431",
   "metadata": {},
   "outputs": [
    {
     "data": {
      "text/plain": [
       "('Pranay', 14)"
      ]
     },
     "execution_count": 50,
     "metadata": {},
     "output_type": "execute_result"
    }
   ],
   "source": [
    "pranay.student()"
   ]
  },
  {
   "cell_type": "code",
   "execution_count": 51,
   "id": "f420ca72-13de-4c58-89cd-4adfec636fc4",
   "metadata": {},
   "outputs": [
    {
     "name": "stdout",
     "output_type": "stream",
     "text": [
      "('Pranay', 14)\n"
     ]
    },
    {
     "data": {
      "text/plain": [
       "('VIII', 'B')"
      ]
     },
     "execution_count": 51,
     "metadata": {},
     "output_type": "execute_result"
    }
   ],
   "source": [
    "pranay.class_info(\"VIII\", \"B\")"
   ]
  },
  {
   "cell_type": "code",
   "execution_count": 54,
   "id": "5e9e632e-d2d5-4d6a-81b1-3297279662ff",
   "metadata": {},
   "outputs": [],
   "source": [
    "ketan = hobbies(\"Ketan\", 15)"
   ]
  },
  {
   "cell_type": "code",
   "execution_count": 55,
   "id": "03aeab5e-d90e-432a-a22a-b541efcd0551",
   "metadata": {},
   "outputs": [
    {
     "name": "stdout",
     "output_type": "stream",
     "text": [
      "('Ketan', 15)\n"
     ]
    },
    {
     "data": {
      "text/plain": [
       "'photography'"
      ]
     },
     "execution_count": 55,
     "metadata": {},
     "output_type": "execute_result"
    }
   ],
   "source": [
    "ketan.hobby(\"photography\")"
   ]
  },
  {
   "cell_type": "code",
   "execution_count": 56,
   "id": "a1cab2c1-01ea-42f8-8844-7e85df1cca19",
   "metadata": {},
   "outputs": [],
   "source": [
    "samir = sports(\"Samir\", 12)"
   ]
  },
  {
   "cell_type": "code",
   "execution_count": 57,
   "id": "3e2bb131-abe8-4eb7-b3b6-b34666c75e6b",
   "metadata": {},
   "outputs": [
    {
     "name": "stdout",
     "output_type": "stream",
     "text": [
      "('Samir', 12)\n"
     ]
    },
    {
     "data": {
      "text/plain": [
       "'volleyball'"
      ]
     },
     "execution_count": 57,
     "metadata": {},
     "output_type": "execute_result"
    }
   ],
   "source": [
    "samir.sport(\"volleyball\")"
   ]
  },
  {
   "cell_type": "code",
   "execution_count": 92,
   "id": "2a81a9c6-353e-46b9-b832-ad18f4811c51",
   "metadata": {},
   "outputs": [],
   "source": [
    "# Multilevel Inheritance:\n",
    "\n",
    "class school:\n",
    "    def __init__(self, name, roll):\n",
    "        self.name = name\n",
    "        self.roll = roll   \n",
    "    def student(self):\n",
    "        return self.name, self.roll\n",
    "    \n",
    "class class_detail(school):   \n",
    "    def class_info(self, classroom, section):\n",
    "        return classroom, section\n",
    "    \n",
    "class enroll(class_detail):    \n",
    "    def teacher(self, cteacher, subject):\n",
    "        return cteacher, subject"
   ]
  },
  {
   "cell_type": "code",
   "execution_count": 93,
   "id": "4b4df506-6fa3-4d96-883d-03844e862236",
   "metadata": {},
   "outputs": [],
   "source": [
    "chitwan = enroll(\"Chitwan\", 9)"
   ]
  },
  {
   "cell_type": "code",
   "execution_count": 94,
   "id": "462b2291-2d99-42b8-91ed-3d625bb7748c",
   "metadata": {},
   "outputs": [
    {
     "data": {
      "text/plain": [
       "('Class 4', 'A')"
      ]
     },
     "execution_count": 94,
     "metadata": {},
     "output_type": "execute_result"
    }
   ],
   "source": [
    "chitwan.class_info(\"Class 4\", \"A\")"
   ]
  },
  {
   "cell_type": "code",
   "execution_count": 95,
   "id": "5c7073a4-d7fa-4d41-b765-c83ea8393601",
   "metadata": {},
   "outputs": [
    {
     "data": {
      "text/plain": [
       "('Miss Anita', 'English')"
      ]
     },
     "execution_count": 95,
     "metadata": {},
     "output_type": "execute_result"
    }
   ],
   "source": [
    "chitwan.teacher(\"Miss Anita\", \"English\")"
   ]
  }
 ],
 "metadata": {
  "kernelspec": {
   "display_name": "Python 3 (ipykernel)",
   "language": "python",
   "name": "python3"
  },
  "language_info": {
   "codemirror_mode": {
    "name": "ipython",
    "version": 3
   },
   "file_extension": ".py",
   "mimetype": "text/x-python",
   "name": "python",
   "nbconvert_exporter": "python",
   "pygments_lexer": "ipython3",
   "version": "3.10.8"
  }
 },
 "nbformat": 4,
 "nbformat_minor": 5
}
